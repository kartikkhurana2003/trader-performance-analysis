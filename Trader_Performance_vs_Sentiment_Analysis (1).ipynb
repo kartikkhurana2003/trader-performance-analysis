{
 "cells": [
  {
   "cell_type": "markdown",
   "id": "1bc5ab95-f7d8-428c-9a06-a343c15c0e2b",
   "metadata": {},
   "source": [
    "# 1. Importing necessary libraries"
   ]
  },
  {
   "cell_type": "code",
   "execution_count": 2,
   "id": "9bc6d5fd-39ca-44d2-9a16-77b86fabfd9a",
   "metadata": {},
   "outputs": [],
   "source": [
    "import numpy as np\n",
    "import pandas as pd\n",
    "import matplotlib.pyplot as plt\n",
    "import seaborn as sns\n",
    "import warnings\n",
    "warnings.filterwarnings(\"ignore\")\n"
   ]
  },
  {
   "cell_type": "markdown",
   "id": "7aeaca1e-3e79-443a-9696-271fde8be318",
   "metadata": {},
   "source": [
    "# 2. Importing dataset"
   ]
  },
  {
   "cell_type": "code",
   "execution_count": 4,
   "id": "bc7b1357-7e00-4b1b-ae51-811d221afad9",
   "metadata": {},
   "outputs": [],
   "source": [
    "# Load trader data\n",
    "trader_df = pd.read_csv(r\"C:\\Users\\karti\\Downloads\\historical_data.csv\",low_memory=True)\n",
    "\n",
    "# Load fear/greed index\n",
    "sentiment_df = pd.read_csv(r\"C:\\Users\\karti\\Downloads\\fear_greed_index.csv\",low_memory=True)\n",
    "\n"
   ]
  },
  {
   "cell_type": "code",
   "execution_count": 5,
   "id": "73b0831d-3ea6-4a1d-ae7e-8dda2281e001",
   "metadata": {},
   "outputs": [
    {
     "data": {
      "text/html": [
       "<div>\n",
       "<style scoped>\n",
       "    .dataframe tbody tr th:only-of-type {\n",
       "        vertical-align: middle;\n",
       "    }\n",
       "\n",
       "    .dataframe tbody tr th {\n",
       "        vertical-align: top;\n",
       "    }\n",
       "\n",
       "    .dataframe thead th {\n",
       "        text-align: right;\n",
       "    }\n",
       "</style>\n",
       "<table border=\"1\" class=\"dataframe\">\n",
       "  <thead>\n",
       "    <tr style=\"text-align: right;\">\n",
       "      <th></th>\n",
       "      <th>Account</th>\n",
       "      <th>Coin</th>\n",
       "      <th>Execution Price</th>\n",
       "      <th>Size Tokens</th>\n",
       "      <th>Size USD</th>\n",
       "      <th>Side</th>\n",
       "      <th>Timestamp IST</th>\n",
       "      <th>Start Position</th>\n",
       "      <th>Direction</th>\n",
       "      <th>Closed PnL</th>\n",
       "      <th>Transaction Hash</th>\n",
       "      <th>Order ID</th>\n",
       "      <th>Crossed</th>\n",
       "      <th>Fee</th>\n",
       "      <th>Trade ID</th>\n",
       "      <th>Timestamp</th>\n",
       "    </tr>\n",
       "  </thead>\n",
       "  <tbody>\n",
       "    <tr>\n",
       "      <th>0</th>\n",
       "      <td>0xae5eacaf9c6b9111fd53034a602c192a04e082ed</td>\n",
       "      <td>@107</td>\n",
       "      <td>7.9769</td>\n",
       "      <td>986.87</td>\n",
       "      <td>7872.16</td>\n",
       "      <td>BUY</td>\n",
       "      <td>02-12-2024 22:50</td>\n",
       "      <td>0.000000</td>\n",
       "      <td>Buy</td>\n",
       "      <td>0.0</td>\n",
       "      <td>0xec09451986a1874e3a980418412fcd0201f500c95bac...</td>\n",
       "      <td>52017706630</td>\n",
       "      <td>True</td>\n",
       "      <td>0.345404</td>\n",
       "      <td>8.950000e+14</td>\n",
       "      <td>1.730000e+12</td>\n",
       "    </tr>\n",
       "    <tr>\n",
       "      <th>1</th>\n",
       "      <td>0xae5eacaf9c6b9111fd53034a602c192a04e082ed</td>\n",
       "      <td>@107</td>\n",
       "      <td>7.9800</td>\n",
       "      <td>16.00</td>\n",
       "      <td>127.68</td>\n",
       "      <td>BUY</td>\n",
       "      <td>02-12-2024 22:50</td>\n",
       "      <td>986.524596</td>\n",
       "      <td>Buy</td>\n",
       "      <td>0.0</td>\n",
       "      <td>0xec09451986a1874e3a980418412fcd0201f500c95bac...</td>\n",
       "      <td>52017706630</td>\n",
       "      <td>True</td>\n",
       "      <td>0.005600</td>\n",
       "      <td>4.430000e+14</td>\n",
       "      <td>1.730000e+12</td>\n",
       "    </tr>\n",
       "    <tr>\n",
       "      <th>2</th>\n",
       "      <td>0xae5eacaf9c6b9111fd53034a602c192a04e082ed</td>\n",
       "      <td>@107</td>\n",
       "      <td>7.9855</td>\n",
       "      <td>144.09</td>\n",
       "      <td>1150.63</td>\n",
       "      <td>BUY</td>\n",
       "      <td>02-12-2024 22:50</td>\n",
       "      <td>1002.518996</td>\n",
       "      <td>Buy</td>\n",
       "      <td>0.0</td>\n",
       "      <td>0xec09451986a1874e3a980418412fcd0201f500c95bac...</td>\n",
       "      <td>52017706630</td>\n",
       "      <td>True</td>\n",
       "      <td>0.050431</td>\n",
       "      <td>6.600000e+14</td>\n",
       "      <td>1.730000e+12</td>\n",
       "    </tr>\n",
       "    <tr>\n",
       "      <th>3</th>\n",
       "      <td>0xae5eacaf9c6b9111fd53034a602c192a04e082ed</td>\n",
       "      <td>@107</td>\n",
       "      <td>7.9874</td>\n",
       "      <td>142.98</td>\n",
       "      <td>1142.04</td>\n",
       "      <td>BUY</td>\n",
       "      <td>02-12-2024 22:50</td>\n",
       "      <td>1146.558564</td>\n",
       "      <td>Buy</td>\n",
       "      <td>0.0</td>\n",
       "      <td>0xec09451986a1874e3a980418412fcd0201f500c95bac...</td>\n",
       "      <td>52017706630</td>\n",
       "      <td>True</td>\n",
       "      <td>0.050043</td>\n",
       "      <td>1.080000e+15</td>\n",
       "      <td>1.730000e+12</td>\n",
       "    </tr>\n",
       "    <tr>\n",
       "      <th>4</th>\n",
       "      <td>0xae5eacaf9c6b9111fd53034a602c192a04e082ed</td>\n",
       "      <td>@107</td>\n",
       "      <td>7.9894</td>\n",
       "      <td>8.73</td>\n",
       "      <td>69.75</td>\n",
       "      <td>BUY</td>\n",
       "      <td>02-12-2024 22:50</td>\n",
       "      <td>1289.488521</td>\n",
       "      <td>Buy</td>\n",
       "      <td>0.0</td>\n",
       "      <td>0xec09451986a1874e3a980418412fcd0201f500c95bac...</td>\n",
       "      <td>52017706630</td>\n",
       "      <td>True</td>\n",
       "      <td>0.003055</td>\n",
       "      <td>1.050000e+15</td>\n",
       "      <td>1.730000e+12</td>\n",
       "    </tr>\n",
       "  </tbody>\n",
       "</table>\n",
       "</div>"
      ],
      "text/plain": [
       "                                      Account  Coin  Execution Price  \\\n",
       "0  0xae5eacaf9c6b9111fd53034a602c192a04e082ed  @107           7.9769   \n",
       "1  0xae5eacaf9c6b9111fd53034a602c192a04e082ed  @107           7.9800   \n",
       "2  0xae5eacaf9c6b9111fd53034a602c192a04e082ed  @107           7.9855   \n",
       "3  0xae5eacaf9c6b9111fd53034a602c192a04e082ed  @107           7.9874   \n",
       "4  0xae5eacaf9c6b9111fd53034a602c192a04e082ed  @107           7.9894   \n",
       "\n",
       "   Size Tokens  Size USD Side     Timestamp IST  Start Position Direction  \\\n",
       "0       986.87   7872.16  BUY  02-12-2024 22:50        0.000000       Buy   \n",
       "1        16.00    127.68  BUY  02-12-2024 22:50      986.524596       Buy   \n",
       "2       144.09   1150.63  BUY  02-12-2024 22:50     1002.518996       Buy   \n",
       "3       142.98   1142.04  BUY  02-12-2024 22:50     1146.558564       Buy   \n",
       "4         8.73     69.75  BUY  02-12-2024 22:50     1289.488521       Buy   \n",
       "\n",
       "   Closed PnL                                   Transaction Hash     Order ID  \\\n",
       "0         0.0  0xec09451986a1874e3a980418412fcd0201f500c95bac...  52017706630   \n",
       "1         0.0  0xec09451986a1874e3a980418412fcd0201f500c95bac...  52017706630   \n",
       "2         0.0  0xec09451986a1874e3a980418412fcd0201f500c95bac...  52017706630   \n",
       "3         0.0  0xec09451986a1874e3a980418412fcd0201f500c95bac...  52017706630   \n",
       "4         0.0  0xec09451986a1874e3a980418412fcd0201f500c95bac...  52017706630   \n",
       "\n",
       "   Crossed       Fee      Trade ID     Timestamp  \n",
       "0     True  0.345404  8.950000e+14  1.730000e+12  \n",
       "1     True  0.005600  4.430000e+14  1.730000e+12  \n",
       "2     True  0.050431  6.600000e+14  1.730000e+12  \n",
       "3     True  0.050043  1.080000e+15  1.730000e+12  \n",
       "4     True  0.003055  1.050000e+15  1.730000e+12  "
      ]
     },
     "execution_count": 5,
     "metadata": {},
     "output_type": "execute_result"
    }
   ],
   "source": [
    "trader_df.head(5)"
   ]
  },
  {
   "cell_type": "code",
   "execution_count": 6,
   "id": "1d4aefd3-6079-44c7-bc9e-7431ccc46220",
   "metadata": {},
   "outputs": [
    {
     "data": {
      "text/html": [
       "<div>\n",
       "<style scoped>\n",
       "    .dataframe tbody tr th:only-of-type {\n",
       "        vertical-align: middle;\n",
       "    }\n",
       "\n",
       "    .dataframe tbody tr th {\n",
       "        vertical-align: top;\n",
       "    }\n",
       "\n",
       "    .dataframe thead th {\n",
       "        text-align: right;\n",
       "    }\n",
       "</style>\n",
       "<table border=\"1\" class=\"dataframe\">\n",
       "  <thead>\n",
       "    <tr style=\"text-align: right;\">\n",
       "      <th></th>\n",
       "      <th>timestamp</th>\n",
       "      <th>value</th>\n",
       "      <th>classification</th>\n",
       "      <th>date</th>\n",
       "    </tr>\n",
       "  </thead>\n",
       "  <tbody>\n",
       "    <tr>\n",
       "      <th>0</th>\n",
       "      <td>1517463000</td>\n",
       "      <td>30</td>\n",
       "      <td>Fear</td>\n",
       "      <td>2018-02-01</td>\n",
       "    </tr>\n",
       "    <tr>\n",
       "      <th>1</th>\n",
       "      <td>1517549400</td>\n",
       "      <td>15</td>\n",
       "      <td>Extreme Fear</td>\n",
       "      <td>2018-02-02</td>\n",
       "    </tr>\n",
       "    <tr>\n",
       "      <th>2</th>\n",
       "      <td>1517635800</td>\n",
       "      <td>40</td>\n",
       "      <td>Fear</td>\n",
       "      <td>2018-02-03</td>\n",
       "    </tr>\n",
       "    <tr>\n",
       "      <th>3</th>\n",
       "      <td>1517722200</td>\n",
       "      <td>24</td>\n",
       "      <td>Extreme Fear</td>\n",
       "      <td>2018-02-04</td>\n",
       "    </tr>\n",
       "    <tr>\n",
       "      <th>4</th>\n",
       "      <td>1517808600</td>\n",
       "      <td>11</td>\n",
       "      <td>Extreme Fear</td>\n",
       "      <td>2018-02-05</td>\n",
       "    </tr>\n",
       "  </tbody>\n",
       "</table>\n",
       "</div>"
      ],
      "text/plain": [
       "    timestamp  value classification        date\n",
       "0  1517463000     30           Fear  2018-02-01\n",
       "1  1517549400     15   Extreme Fear  2018-02-02\n",
       "2  1517635800     40           Fear  2018-02-03\n",
       "3  1517722200     24   Extreme Fear  2018-02-04\n",
       "4  1517808600     11   Extreme Fear  2018-02-05"
      ]
     },
     "execution_count": 6,
     "metadata": {},
     "output_type": "execute_result"
    }
   ],
   "source": [
    "sentiment_df.head(5)"
   ]
  },
  {
   "cell_type": "code",
   "execution_count": 7,
   "id": "83871413-d325-4c61-86fd-310c47e99503",
   "metadata": {},
   "outputs": [
    {
     "data": {
      "text/plain": [
       "Index(['Account', 'Coin', 'Execution Price', 'Size Tokens', 'Size USD', 'Side',\n",
       "       'Timestamp IST', 'Start Position', 'Direction', 'Closed PnL',\n",
       "       'Transaction Hash', 'Order ID', 'Crossed', 'Fee', 'Trade ID',\n",
       "       'Timestamp'],\n",
       "      dtype='object')"
      ]
     },
     "execution_count": 7,
     "metadata": {},
     "output_type": "execute_result"
    }
   ],
   "source": [
    "trader_df.columns"
   ]
  },
  {
   "cell_type": "code",
   "execution_count": 8,
   "id": "60d22973-3685-4d23-a632-912a5e93a852",
   "metadata": {},
   "outputs": [
    {
     "data": {
      "text/plain": [
       "Index(['timestamp', 'value', 'classification', 'date'], dtype='object')"
      ]
     },
     "execution_count": 8,
     "metadata": {},
     "output_type": "execute_result"
    }
   ],
   "source": [
    "sentiment_df.columns"
   ]
  },
  {
   "cell_type": "code",
   "execution_count": 9,
   "id": "dfcb4337-49a9-452f-bb1f-8ff0ad4b4e16",
   "metadata": {},
   "outputs": [],
   "source": [
    "#common columns=timestamp"
   ]
  },
  {
   "cell_type": "markdown",
   "id": "704f36e7-80d0-4817-9782-f0334771d128",
   "metadata": {},
   "source": [
    "# 3. Data Inspection"
   ]
  },
  {
   "cell_type": "code",
   "execution_count": 11,
   "id": "a2dff4db-377e-4247-ad4f-d1f65714f556",
   "metadata": {},
   "outputs": [
    {
     "data": {
      "text/plain": [
       "(211224, 16)"
      ]
     },
     "execution_count": 11,
     "metadata": {},
     "output_type": "execute_result"
    }
   ],
   "source": [
    "trader_df.shape"
   ]
  },
  {
   "cell_type": "code",
   "execution_count": 12,
   "id": "a07f1e3f-b35e-4f18-b285-dbb9f76cd58b",
   "metadata": {},
   "outputs": [
    {
     "data": {
      "text/plain": [
       "(2644, 4)"
      ]
     },
     "execution_count": 12,
     "metadata": {},
     "output_type": "execute_result"
    }
   ],
   "source": [
    "sentiment_df.shape"
   ]
  },
  {
   "cell_type": "markdown",
   "id": "3116f750-df36-4a8e-accb-656dc53e5491",
   "metadata": {},
   "source": [
    "3.c. Check non null and data types"
   ]
  },
  {
   "cell_type": "code",
   "execution_count": 14,
   "id": "06982ed1-7312-471c-9cfd-f1f68a63d2b1",
   "metadata": {},
   "outputs": [
    {
     "name": "stdout",
     "output_type": "stream",
     "text": [
      "<class 'pandas.core.frame.DataFrame'>\n",
      "RangeIndex: 211224 entries, 0 to 211223\n",
      "Data columns (total 16 columns):\n",
      " #   Column            Non-Null Count   Dtype  \n",
      "---  ------            --------------   -----  \n",
      " 0   Account           211224 non-null  object \n",
      " 1   Coin              211224 non-null  object \n",
      " 2   Execution Price   211224 non-null  float64\n",
      " 3   Size Tokens       211224 non-null  float64\n",
      " 4   Size USD          211224 non-null  float64\n",
      " 5   Side              211224 non-null  object \n",
      " 6   Timestamp IST     211224 non-null  object \n",
      " 7   Start Position    211224 non-null  float64\n",
      " 8   Direction         211224 non-null  object \n",
      " 9   Closed PnL        211224 non-null  float64\n",
      " 10  Transaction Hash  211224 non-null  object \n",
      " 11  Order ID          211224 non-null  int64  \n",
      " 12  Crossed           211224 non-null  bool   \n",
      " 13  Fee               211224 non-null  float64\n",
      " 14  Trade ID          211224 non-null  float64\n",
      " 15  Timestamp         211224 non-null  float64\n",
      "dtypes: bool(1), float64(8), int64(1), object(6)\n",
      "memory usage: 24.4+ MB\n"
     ]
    }
   ],
   "source": [
    "trader_df.info()"
   ]
  },
  {
   "cell_type": "code",
   "execution_count": 15,
   "id": "d77c75ee-8f3f-449b-b270-6f0b81376f43",
   "metadata": {},
   "outputs": [
    {
     "name": "stdout",
     "output_type": "stream",
     "text": [
      "<class 'pandas.core.frame.DataFrame'>\n",
      "RangeIndex: 2644 entries, 0 to 2643\n",
      "Data columns (total 4 columns):\n",
      " #   Column          Non-Null Count  Dtype \n",
      "---  ------          --------------  ----- \n",
      " 0   timestamp       2644 non-null   int64 \n",
      " 1   value           2644 non-null   int64 \n",
      " 2   classification  2644 non-null   object\n",
      " 3   date            2644 non-null   object\n",
      "dtypes: int64(2), object(2)\n",
      "memory usage: 82.8+ KB\n"
     ]
    }
   ],
   "source": [
    "sentiment_df.info()"
   ]
  },
  {
   "cell_type": "markdown",
   "id": "247dce8a-fca0-4c0d-ad2c-acf497bd43aa",
   "metadata": {},
   "source": [
    "3.d. Check descriptive stats"
   ]
  },
  {
   "cell_type": "code",
   "execution_count": 17,
   "id": "b49505b9-8f08-4ff7-92b6-7094dd54bf74",
   "metadata": {},
   "outputs": [
    {
     "data": {
      "text/html": [
       "<div>\n",
       "<style scoped>\n",
       "    .dataframe tbody tr th:only-of-type {\n",
       "        vertical-align: middle;\n",
       "    }\n",
       "\n",
       "    .dataframe tbody tr th {\n",
       "        vertical-align: top;\n",
       "    }\n",
       "\n",
       "    .dataframe thead th {\n",
       "        text-align: right;\n",
       "    }\n",
       "</style>\n",
       "<table border=\"1\" class=\"dataframe\">\n",
       "  <thead>\n",
       "    <tr style=\"text-align: right;\">\n",
       "      <th></th>\n",
       "      <th>Execution Price</th>\n",
       "      <th>Size Tokens</th>\n",
       "      <th>Size USD</th>\n",
       "      <th>Start Position</th>\n",
       "      <th>Closed PnL</th>\n",
       "      <th>Order ID</th>\n",
       "      <th>Fee</th>\n",
       "      <th>Trade ID</th>\n",
       "      <th>Timestamp</th>\n",
       "    </tr>\n",
       "  </thead>\n",
       "  <tbody>\n",
       "    <tr>\n",
       "      <th>count</th>\n",
       "      <td>211224.000000</td>\n",
       "      <td>2.112240e+05</td>\n",
       "      <td>2.112240e+05</td>\n",
       "      <td>2.112240e+05</td>\n",
       "      <td>211224.000000</td>\n",
       "      <td>2.112240e+05</td>\n",
       "      <td>211224.000000</td>\n",
       "      <td>2.112240e+05</td>\n",
       "      <td>2.112240e+05</td>\n",
       "    </tr>\n",
       "    <tr>\n",
       "      <th>mean</th>\n",
       "      <td>11414.723350</td>\n",
       "      <td>4.623365e+03</td>\n",
       "      <td>5.639451e+03</td>\n",
       "      <td>-2.994625e+04</td>\n",
       "      <td>48.749001</td>\n",
       "      <td>6.965388e+10</td>\n",
       "      <td>1.163967</td>\n",
       "      <td>5.628549e+14</td>\n",
       "      <td>1.737744e+12</td>\n",
       "    </tr>\n",
       "    <tr>\n",
       "      <th>std</th>\n",
       "      <td>29447.654868</td>\n",
       "      <td>1.042729e+05</td>\n",
       "      <td>3.657514e+04</td>\n",
       "      <td>6.738074e+05</td>\n",
       "      <td>919.164828</td>\n",
       "      <td>1.835753e+10</td>\n",
       "      <td>6.758854</td>\n",
       "      <td>3.257565e+14</td>\n",
       "      <td>8.689920e+09</td>\n",
       "    </tr>\n",
       "    <tr>\n",
       "      <th>min</th>\n",
       "      <td>0.000005</td>\n",
       "      <td>8.740000e-07</td>\n",
       "      <td>0.000000e+00</td>\n",
       "      <td>-1.433463e+07</td>\n",
       "      <td>-117990.104100</td>\n",
       "      <td>1.732711e+08</td>\n",
       "      <td>-1.175712</td>\n",
       "      <td>0.000000e+00</td>\n",
       "      <td>1.680000e+12</td>\n",
       "    </tr>\n",
       "    <tr>\n",
       "      <th>25%</th>\n",
       "      <td>4.854700</td>\n",
       "      <td>2.940000e+00</td>\n",
       "      <td>1.937900e+02</td>\n",
       "      <td>-3.762311e+02</td>\n",
       "      <td>0.000000</td>\n",
       "      <td>5.983853e+10</td>\n",
       "      <td>0.016121</td>\n",
       "      <td>2.810000e+14</td>\n",
       "      <td>1.740000e+12</td>\n",
       "    </tr>\n",
       "    <tr>\n",
       "      <th>50%</th>\n",
       "      <td>18.280000</td>\n",
       "      <td>3.200000e+01</td>\n",
       "      <td>5.970450e+02</td>\n",
       "      <td>8.472793e+01</td>\n",
       "      <td>0.000000</td>\n",
       "      <td>7.442939e+10</td>\n",
       "      <td>0.089578</td>\n",
       "      <td>5.620000e+14</td>\n",
       "      <td>1.740000e+12</td>\n",
       "    </tr>\n",
       "    <tr>\n",
       "      <th>75%</th>\n",
       "      <td>101.580000</td>\n",
       "      <td>1.879025e+02</td>\n",
       "      <td>2.058960e+03</td>\n",
       "      <td>9.337278e+03</td>\n",
       "      <td>5.792797</td>\n",
       "      <td>8.335543e+10</td>\n",
       "      <td>0.393811</td>\n",
       "      <td>8.460000e+14</td>\n",
       "      <td>1.740000e+12</td>\n",
       "    </tr>\n",
       "    <tr>\n",
       "      <th>max</th>\n",
       "      <td>109004.000000</td>\n",
       "      <td>1.582244e+07</td>\n",
       "      <td>3.921431e+06</td>\n",
       "      <td>3.050948e+07</td>\n",
       "      <td>135329.090100</td>\n",
       "      <td>9.014923e+10</td>\n",
       "      <td>837.471593</td>\n",
       "      <td>1.130000e+15</td>\n",
       "      <td>1.750000e+12</td>\n",
       "    </tr>\n",
       "  </tbody>\n",
       "</table>\n",
       "</div>"
      ],
      "text/plain": [
       "       Execution Price   Size Tokens      Size USD  Start Position  \\\n",
       "count    211224.000000  2.112240e+05  2.112240e+05    2.112240e+05   \n",
       "mean      11414.723350  4.623365e+03  5.639451e+03   -2.994625e+04   \n",
       "std       29447.654868  1.042729e+05  3.657514e+04    6.738074e+05   \n",
       "min           0.000005  8.740000e-07  0.000000e+00   -1.433463e+07   \n",
       "25%           4.854700  2.940000e+00  1.937900e+02   -3.762311e+02   \n",
       "50%          18.280000  3.200000e+01  5.970450e+02    8.472793e+01   \n",
       "75%         101.580000  1.879025e+02  2.058960e+03    9.337278e+03   \n",
       "max      109004.000000  1.582244e+07  3.921431e+06    3.050948e+07   \n",
       "\n",
       "          Closed PnL      Order ID            Fee      Trade ID     Timestamp  \n",
       "count  211224.000000  2.112240e+05  211224.000000  2.112240e+05  2.112240e+05  \n",
       "mean       48.749001  6.965388e+10       1.163967  5.628549e+14  1.737744e+12  \n",
       "std       919.164828  1.835753e+10       6.758854  3.257565e+14  8.689920e+09  \n",
       "min   -117990.104100  1.732711e+08      -1.175712  0.000000e+00  1.680000e+12  \n",
       "25%         0.000000  5.983853e+10       0.016121  2.810000e+14  1.740000e+12  \n",
       "50%         0.000000  7.442939e+10       0.089578  5.620000e+14  1.740000e+12  \n",
       "75%         5.792797  8.335543e+10       0.393811  8.460000e+14  1.740000e+12  \n",
       "max    135329.090100  9.014923e+10     837.471593  1.130000e+15  1.750000e+12  "
      ]
     },
     "execution_count": 17,
     "metadata": {},
     "output_type": "execute_result"
    }
   ],
   "source": [
    "trader_df.describe()"
   ]
  },
  {
   "cell_type": "code",
   "execution_count": 18,
   "id": "4480c764-4e46-4beb-881e-8906cc654014",
   "metadata": {},
   "outputs": [
    {
     "data": {
      "text/html": [
       "<div>\n",
       "<style scoped>\n",
       "    .dataframe tbody tr th:only-of-type {\n",
       "        vertical-align: middle;\n",
       "    }\n",
       "\n",
       "    .dataframe tbody tr th {\n",
       "        vertical-align: top;\n",
       "    }\n",
       "\n",
       "    .dataframe thead th {\n",
       "        text-align: right;\n",
       "    }\n",
       "</style>\n",
       "<table border=\"1\" class=\"dataframe\">\n",
       "  <thead>\n",
       "    <tr style=\"text-align: right;\">\n",
       "      <th></th>\n",
       "      <th>timestamp</th>\n",
       "      <th>value</th>\n",
       "    </tr>\n",
       "  </thead>\n",
       "  <tbody>\n",
       "    <tr>\n",
       "      <th>count</th>\n",
       "      <td>2.644000e+03</td>\n",
       "      <td>2644.000000</td>\n",
       "    </tr>\n",
       "    <tr>\n",
       "      <th>mean</th>\n",
       "      <td>1.631899e+09</td>\n",
       "      <td>46.981089</td>\n",
       "    </tr>\n",
       "    <tr>\n",
       "      <th>std</th>\n",
       "      <td>6.597967e+07</td>\n",
       "      <td>21.827680</td>\n",
       "    </tr>\n",
       "    <tr>\n",
       "      <th>min</th>\n",
       "      <td>1.517463e+09</td>\n",
       "      <td>5.000000</td>\n",
       "    </tr>\n",
       "    <tr>\n",
       "      <th>25%</th>\n",
       "      <td>1.574811e+09</td>\n",
       "      <td>28.000000</td>\n",
       "    </tr>\n",
       "    <tr>\n",
       "      <th>50%</th>\n",
       "      <td>1.631900e+09</td>\n",
       "      <td>46.000000</td>\n",
       "    </tr>\n",
       "    <tr>\n",
       "      <th>75%</th>\n",
       "      <td>1.688989e+09</td>\n",
       "      <td>66.000000</td>\n",
       "    </tr>\n",
       "    <tr>\n",
       "      <th>max</th>\n",
       "      <td>1.746164e+09</td>\n",
       "      <td>95.000000</td>\n",
       "    </tr>\n",
       "  </tbody>\n",
       "</table>\n",
       "</div>"
      ],
      "text/plain": [
       "          timestamp        value\n",
       "count  2.644000e+03  2644.000000\n",
       "mean   1.631899e+09    46.981089\n",
       "std    6.597967e+07    21.827680\n",
       "min    1.517463e+09     5.000000\n",
       "25%    1.574811e+09    28.000000\n",
       "50%    1.631900e+09    46.000000\n",
       "75%    1.688989e+09    66.000000\n",
       "max    1.746164e+09    95.000000"
      ]
     },
     "execution_count": 18,
     "metadata": {},
     "output_type": "execute_result"
    }
   ],
   "source": [
    "sentiment_df.describe()"
   ]
  },
  {
   "cell_type": "code",
   "execution_count": 19,
   "id": "b0f5efdd-2935-4681-a696-045615fc4236",
   "metadata": {},
   "outputs": [
    {
     "data": {
      "text/plain": [
       "Account             0\n",
       "Coin                0\n",
       "Execution Price     0\n",
       "Size Tokens         0\n",
       "Size USD            0\n",
       "Side                0\n",
       "Timestamp IST       0\n",
       "Start Position      0\n",
       "Direction           0\n",
       "Closed PnL          0\n",
       "Transaction Hash    0\n",
       "Order ID            0\n",
       "Crossed             0\n",
       "Fee                 0\n",
       "Trade ID            0\n",
       "Timestamp           0\n",
       "dtype: int64"
      ]
     },
     "execution_count": 19,
     "metadata": {},
     "output_type": "execute_result"
    }
   ],
   "source": [
    "trader_df.isnull().sum() # no null values"
   ]
  },
  {
   "cell_type": "code",
   "execution_count": 20,
   "id": "e528db6b-b78e-45fb-ac1a-2b9d295aa42b",
   "metadata": {},
   "outputs": [
    {
     "data": {
      "text/plain": [
       "timestamp         0\n",
       "value             0\n",
       "classification    0\n",
       "date              0\n",
       "dtype: int64"
      ]
     },
     "execution_count": 20,
     "metadata": {},
     "output_type": "execute_result"
    }
   ],
   "source": [
    "sentiment_df.isnull().sum()  #no null values"
   ]
  },
  {
   "cell_type": "markdown",
   "id": "8d30b060-7dd8-402d-a2e3-196fbc2dc511",
   "metadata": {},
   "source": [
    "# 5. Exploratory Data analysis (EDA)"
   ]
  },
  {
   "cell_type": "code",
   "execution_count": 22,
   "id": "6b67fca7-4955-4d7e-9c78-65523f5096e1",
   "metadata": {},
   "outputs": [],
   "source": [
    "trader_df.columns = trader_df.columns.str.strip()\n",
    "sentiment_df.columns = sentiment_df.columns.str.strip()"
   ]
  },
  {
   "cell_type": "code",
   "execution_count": 23,
   "id": "08656a48-3659-4ee9-bf36-e8c653e0cea5",
   "metadata": {},
   "outputs": [],
   "source": [
    "# Convert 'Timestamp' columns to datetime\n",
    "trader_df['Timestamp'] = pd.to_datetime(trader_df['Timestamp'])\n",
    "sentiment_df['timestamp'] = pd.to_datetime(sentiment_df['timestamp'])"
   ]
  },
  {
   "cell_type": "code",
   "execution_count": 24,
   "id": "885bc05a-b50c-4354-9399-7d5b90877f41",
   "metadata": {},
   "outputs": [],
   "source": [
    "trader_df['date'] = trader_df['Timestamp'].dt.date\n",
    "sentiment_df['date'] = sentiment_df['timestamp'].dt.date\n"
   ]
  },
  {
   "cell_type": "code",
   "execution_count": 25,
   "id": "3d0e70c9-4dc2-4ebe-b525-a7ec3e492737",
   "metadata": {},
   "outputs": [
    {
     "name": "stdout",
     "output_type": "stream",
     "text": [
      "Index(['timestamp', 'value', 'classification', 'date'], dtype='object')\n"
     ]
    }
   ],
   "source": [
    "print(sentiment_df.columns)\n"
   ]
  },
  {
   "cell_type": "code",
   "execution_count": 26,
   "id": "8e024192-e0d7-412b-98da-70aa266ab497",
   "metadata": {},
   "outputs": [
    {
     "name": "stdout",
     "output_type": "stream",
     "text": [
      "Index(['Account', 'Coin', 'Execution Price', 'Size Tokens', 'Size USD', 'Side',\n",
      "       'Timestamp IST', 'Start Position', 'Direction', 'Closed PnL',\n",
      "       'Transaction Hash', 'Order ID', 'Crossed', 'Fee', 'Trade ID',\n",
      "       'Timestamp', 'date'],\n",
      "      dtype='object')\n"
     ]
    }
   ],
   "source": [
    "print(trader_df.columns)\n"
   ]
  },
  {
   "cell_type": "code",
   "execution_count": 27,
   "id": "bcf34eb5-e7d7-4381-9724-58380fc64c23",
   "metadata": {},
   "outputs": [
    {
     "data": {
      "text/plain": [
       "(211224, 17)"
      ]
     },
     "execution_count": 27,
     "metadata": {},
     "output_type": "execute_result"
    }
   ],
   "source": [
    "trader_df.shape"
   ]
  },
  {
   "cell_type": "code",
   "execution_count": 28,
   "id": "eaebbb0b-8e91-4a1f-a879-42345cfd314c",
   "metadata": {},
   "outputs": [
    {
     "data": {
      "text/plain": [
       "(2644, 4)"
      ]
     },
     "execution_count": 28,
     "metadata": {},
     "output_type": "execute_result"
    }
   ],
   "source": [
    "sentiment_df.shape"
   ]
  },
  {
   "cell_type": "code",
   "execution_count": 29,
   "id": "a77def84-e813-49e2-95cf-beb5f105b666",
   "metadata": {},
   "outputs": [
    {
     "name": "stdout",
     "output_type": "stream",
     "text": [
      "['Fear' 'Extreme Fear' 'Neutral' 'Greed' 'Extreme Greed']\n"
     ]
    }
   ],
   "source": [
    "print(sentiment_df['classification'].unique())"
   ]
  },
  {
   "cell_type": "code",
   "execution_count": 30,
   "id": "897893ae-9ae4-4205-be43-cd89b34e65c0",
   "metadata": {},
   "outputs": [
    {
     "name": "stdout",
     "output_type": "stream",
     "text": [
      "classification\n",
      "Fear             781\n",
      "Greed            633\n",
      "Extreme Fear     508\n",
      "Neutral          396\n",
      "Extreme Greed    326\n",
      "Name: count, dtype: int64\n"
     ]
    }
   ],
   "source": [
    "print(sentiment_df['classification'].value_counts())"
   ]
  },
  {
   "cell_type": "code",
   "execution_count": 31,
   "id": "65f71230-42e0-4090-8b8e-4e8eae43e555",
   "metadata": {},
   "outputs": [],
   "source": [
    "def simplify_sentiment(label):\n",
    "    label = str(label).strip().lower()\n",
    "    if \"fear\" in label:\n",
    "        return \"Fear\"\n",
    "    elif \"greed\" in label:\n",
    "        return \"Greed\"\n",
    "    else:\n",
    "        return \"Neutral\"\n",
    "\n",
    "sentiment_df['Simplified'] = sentiment_df['classification'].apply(simplify_sentiment)"
   ]
  },
  {
   "cell_type": "code",
   "execution_count": 32,
   "id": "df785e95-94f1-4b97-b558-d2b613a48186",
   "metadata": {},
   "outputs": [],
   "source": [
    "sentiment_daily = (\n",
    "    sentiment_df.groupby(['date', 'Simplified'])\n",
    "    .size()\n",
    "    .reset_index(name='count')\n",
    "    .sort_values(['date', 'count'], ascending=[True, False])\n",
    "    .drop_duplicates('date')\n",
    ")"
   ]
  },
  {
   "cell_type": "markdown",
   "id": "bb49e2c6-76d8-44bd-b750-292b28624cb3",
   "metadata": {},
   "source": [
    "# Dataset Merging"
   ]
  },
  {
   "cell_type": "code",
   "execution_count": 34,
   "id": "15cb5539-b4cb-4575-9683-deeadfc2bb90",
   "metadata": {},
   "outputs": [],
   "source": [
    "merged_df = pd.merge(\n",
    "    trader_df,\n",
    "    sentiment_daily[['date', 'Simplified']],\n",
    "    on='date',\n",
    "    how='left'\n",
    ")"
   ]
  },
  {
   "cell_type": "code",
   "execution_count": 35,
   "id": "29edfa4c-4537-4e2a-b86c-00a0b7f71ce0",
   "metadata": {},
   "outputs": [
    {
     "name": "stdout",
     "output_type": "stream",
     "text": [
      "Simplified\n",
      "Fear    211224\n",
      "Name: count, dtype: int64\n"
     ]
    }
   ],
   "source": [
    "print(merged_df['Simplified'].value_counts())\n"
   ]
  },
  {
   "cell_type": "code",
   "execution_count": 36,
   "id": "43863118-efcf-4eec-9392-195c56808e52",
   "metadata": {},
   "outputs": [
    {
     "name": "stdout",
     "output_type": "stream",
     "text": [
      "['Fear' 'Extreme Fear' 'Neutral' 'Greed' 'Extreme Greed']\n"
     ]
    }
   ],
   "source": [
    "print(sentiment_df['classification'].unique())\n",
    "\n"
   ]
  },
  {
   "cell_type": "code",
   "execution_count": 37,
   "id": "6b792d66-efac-43af-8bf3-d109ac9a45f7",
   "metadata": {},
   "outputs": [
    {
     "data": {
      "text/html": [
       "<div>\n",
       "<style scoped>\n",
       "    .dataframe tbody tr th:only-of-type {\n",
       "        vertical-align: middle;\n",
       "    }\n",
       "\n",
       "    .dataframe tbody tr th {\n",
       "        vertical-align: top;\n",
       "    }\n",
       "\n",
       "    .dataframe thead th {\n",
       "        text-align: right;\n",
       "    }\n",
       "</style>\n",
       "<table border=\"1\" class=\"dataframe\">\n",
       "  <thead>\n",
       "    <tr style=\"text-align: right;\">\n",
       "      <th></th>\n",
       "      <th>Account</th>\n",
       "      <th>Coin</th>\n",
       "      <th>Execution Price</th>\n",
       "      <th>Size Tokens</th>\n",
       "      <th>Size USD</th>\n",
       "      <th>Side</th>\n",
       "      <th>Timestamp IST</th>\n",
       "      <th>Start Position</th>\n",
       "      <th>Direction</th>\n",
       "      <th>Closed PnL</th>\n",
       "      <th>Transaction Hash</th>\n",
       "      <th>Order ID</th>\n",
       "      <th>Crossed</th>\n",
       "      <th>Fee</th>\n",
       "      <th>Trade ID</th>\n",
       "      <th>Timestamp</th>\n",
       "      <th>date</th>\n",
       "      <th>Simplified</th>\n",
       "    </tr>\n",
       "  </thead>\n",
       "  <tbody>\n",
       "    <tr>\n",
       "      <th>0</th>\n",
       "      <td>0xae5eacaf9c6b9111fd53034a602c192a04e082ed</td>\n",
       "      <td>@107</td>\n",
       "      <td>7.9769</td>\n",
       "      <td>986.87</td>\n",
       "      <td>7872.16</td>\n",
       "      <td>BUY</td>\n",
       "      <td>02-12-2024 22:50</td>\n",
       "      <td>0.000000</td>\n",
       "      <td>Buy</td>\n",
       "      <td>0.0000</td>\n",
       "      <td>0xec09451986a1874e3a980418412fcd0201f500c95bac...</td>\n",
       "      <td>52017706630</td>\n",
       "      <td>True</td>\n",
       "      <td>0.345404</td>\n",
       "      <td>8.950000e+14</td>\n",
       "      <td>1970-01-01 00:28:50</td>\n",
       "      <td>1970-01-01</td>\n",
       "      <td>Fear</td>\n",
       "    </tr>\n",
       "    <tr>\n",
       "      <th>1</th>\n",
       "      <td>0xae5eacaf9c6b9111fd53034a602c192a04e082ed</td>\n",
       "      <td>@107</td>\n",
       "      <td>7.9800</td>\n",
       "      <td>16.00</td>\n",
       "      <td>127.68</td>\n",
       "      <td>BUY</td>\n",
       "      <td>02-12-2024 22:50</td>\n",
       "      <td>986.524596</td>\n",
       "      <td>Buy</td>\n",
       "      <td>0.0000</td>\n",
       "      <td>0xec09451986a1874e3a980418412fcd0201f500c95bac...</td>\n",
       "      <td>52017706630</td>\n",
       "      <td>True</td>\n",
       "      <td>0.005600</td>\n",
       "      <td>4.430000e+14</td>\n",
       "      <td>1970-01-01 00:28:50</td>\n",
       "      <td>1970-01-01</td>\n",
       "      <td>Fear</td>\n",
       "    </tr>\n",
       "    <tr>\n",
       "      <th>2</th>\n",
       "      <td>0xae5eacaf9c6b9111fd53034a602c192a04e082ed</td>\n",
       "      <td>@107</td>\n",
       "      <td>7.9855</td>\n",
       "      <td>144.09</td>\n",
       "      <td>1150.63</td>\n",
       "      <td>BUY</td>\n",
       "      <td>02-12-2024 22:50</td>\n",
       "      <td>1002.518996</td>\n",
       "      <td>Buy</td>\n",
       "      <td>0.0000</td>\n",
       "      <td>0xec09451986a1874e3a980418412fcd0201f500c95bac...</td>\n",
       "      <td>52017706630</td>\n",
       "      <td>True</td>\n",
       "      <td>0.050431</td>\n",
       "      <td>6.600000e+14</td>\n",
       "      <td>1970-01-01 00:28:50</td>\n",
       "      <td>1970-01-01</td>\n",
       "      <td>Fear</td>\n",
       "    </tr>\n",
       "    <tr>\n",
       "      <th>3</th>\n",
       "      <td>0xae5eacaf9c6b9111fd53034a602c192a04e082ed</td>\n",
       "      <td>@107</td>\n",
       "      <td>7.9874</td>\n",
       "      <td>142.98</td>\n",
       "      <td>1142.04</td>\n",
       "      <td>BUY</td>\n",
       "      <td>02-12-2024 22:50</td>\n",
       "      <td>1146.558564</td>\n",
       "      <td>Buy</td>\n",
       "      <td>0.0000</td>\n",
       "      <td>0xec09451986a1874e3a980418412fcd0201f500c95bac...</td>\n",
       "      <td>52017706630</td>\n",
       "      <td>True</td>\n",
       "      <td>0.050043</td>\n",
       "      <td>1.080000e+15</td>\n",
       "      <td>1970-01-01 00:28:50</td>\n",
       "      <td>1970-01-01</td>\n",
       "      <td>Fear</td>\n",
       "    </tr>\n",
       "    <tr>\n",
       "      <th>4</th>\n",
       "      <td>0xae5eacaf9c6b9111fd53034a602c192a04e082ed</td>\n",
       "      <td>@107</td>\n",
       "      <td>7.9894</td>\n",
       "      <td>8.73</td>\n",
       "      <td>69.75</td>\n",
       "      <td>BUY</td>\n",
       "      <td>02-12-2024 22:50</td>\n",
       "      <td>1289.488521</td>\n",
       "      <td>Buy</td>\n",
       "      <td>0.0000</td>\n",
       "      <td>0xec09451986a1874e3a980418412fcd0201f500c95bac...</td>\n",
       "      <td>52017706630</td>\n",
       "      <td>True</td>\n",
       "      <td>0.003055</td>\n",
       "      <td>1.050000e+15</td>\n",
       "      <td>1970-01-01 00:28:50</td>\n",
       "      <td>1970-01-01</td>\n",
       "      <td>Fear</td>\n",
       "    </tr>\n",
       "    <tr>\n",
       "      <th>...</th>\n",
       "      <td>...</td>\n",
       "      <td>...</td>\n",
       "      <td>...</td>\n",
       "      <td>...</td>\n",
       "      <td>...</td>\n",
       "      <td>...</td>\n",
       "      <td>...</td>\n",
       "      <td>...</td>\n",
       "      <td>...</td>\n",
       "      <td>...</td>\n",
       "      <td>...</td>\n",
       "      <td>...</td>\n",
       "      <td>...</td>\n",
       "      <td>...</td>\n",
       "      <td>...</td>\n",
       "      <td>...</td>\n",
       "      <td>...</td>\n",
       "      <td>...</td>\n",
       "    </tr>\n",
       "    <tr>\n",
       "      <th>211219</th>\n",
       "      <td>0x72743ae2822edd658c0c50608fd7c5c501b2afbd</td>\n",
       "      <td>FARTCOIN</td>\n",
       "      <td>1.1010</td>\n",
       "      <td>382.20</td>\n",
       "      <td>420.80</td>\n",
       "      <td>SELL</td>\n",
       "      <td>25-04-2025 15:35</td>\n",
       "      <td>7546.600000</td>\n",
       "      <td>Close Long</td>\n",
       "      <td>-20.2566</td>\n",
       "      <td>0xcd339c08dc7b615a993c0422374d8e02027400092bc2...</td>\n",
       "      <td>88803313862</td>\n",
       "      <td>False</td>\n",
       "      <td>0.042080</td>\n",
       "      <td>1.990000e+14</td>\n",
       "      <td>1970-01-01 00:29:10</td>\n",
       "      <td>1970-01-01</td>\n",
       "      <td>Fear</td>\n",
       "    </tr>\n",
       "    <tr>\n",
       "      <th>211220</th>\n",
       "      <td>0x72743ae2822edd658c0c50608fd7c5c501b2afbd</td>\n",
       "      <td>FARTCOIN</td>\n",
       "      <td>1.1010</td>\n",
       "      <td>2124.10</td>\n",
       "      <td>2338.63</td>\n",
       "      <td>SELL</td>\n",
       "      <td>25-04-2025 15:35</td>\n",
       "      <td>7164.400000</td>\n",
       "      <td>Close Long</td>\n",
       "      <td>-112.5773</td>\n",
       "      <td>0x29e8ede2a3a37aa0eac00422374d8e02029b00ac9f3c...</td>\n",
       "      <td>88803313862</td>\n",
       "      <td>False</td>\n",
       "      <td>0.233863</td>\n",
       "      <td>9.260000e+14</td>\n",
       "      <td>1970-01-01 00:29:10</td>\n",
       "      <td>1970-01-01</td>\n",
       "      <td>Fear</td>\n",
       "    </tr>\n",
       "    <tr>\n",
       "      <th>211221</th>\n",
       "      <td>0x72743ae2822edd658c0c50608fd7c5c501b2afbd</td>\n",
       "      <td>FARTCOIN</td>\n",
       "      <td>1.1010</td>\n",
       "      <td>423.40</td>\n",
       "      <td>466.16</td>\n",
       "      <td>SELL</td>\n",
       "      <td>25-04-2025 15:35</td>\n",
       "      <td>5040.300000</td>\n",
       "      <td>Close Long</td>\n",
       "      <td>-22.4402</td>\n",
       "      <td>0x0780085b0c0a943eea800422374d920204c100edf579...</td>\n",
       "      <td>88803313862</td>\n",
       "      <td>False</td>\n",
       "      <td>0.046616</td>\n",
       "      <td>6.930000e+14</td>\n",
       "      <td>1970-01-01 00:29:10</td>\n",
       "      <td>1970-01-01</td>\n",
       "      <td>Fear</td>\n",
       "    </tr>\n",
       "    <tr>\n",
       "      <th>211222</th>\n",
       "      <td>0x72743ae2822edd658c0c50608fd7c5c501b2afbd</td>\n",
       "      <td>FARTCOIN</td>\n",
       "      <td>1.1010</td>\n",
       "      <td>3599.80</td>\n",
       "      <td>3963.38</td>\n",
       "      <td>SELL</td>\n",
       "      <td>25-04-2025 15:35</td>\n",
       "      <td>4616.900000</td>\n",
       "      <td>Close Long</td>\n",
       "      <td>-190.7894</td>\n",
       "      <td>0x349c29934913b25c89e20422374d920204cd008b8a0e...</td>\n",
       "      <td>88803313862</td>\n",
       "      <td>False</td>\n",
       "      <td>0.396337</td>\n",
       "      <td>4.180000e+14</td>\n",
       "      <td>1970-01-01 00:29:10</td>\n",
       "      <td>1970-01-01</td>\n",
       "      <td>Fear</td>\n",
       "    </tr>\n",
       "    <tr>\n",
       "      <th>211223</th>\n",
       "      <td>0x72743ae2822edd658c0c50608fd7c5c501b2afbd</td>\n",
       "      <td>FARTCOIN</td>\n",
       "      <td>1.1010</td>\n",
       "      <td>1017.10</td>\n",
       "      <td>1119.83</td>\n",
       "      <td>SELL</td>\n",
       "      <td>25-04-2025 15:35</td>\n",
       "      <td>1017.100000</td>\n",
       "      <td>Close Long</td>\n",
       "      <td>-53.9063</td>\n",
       "      <td>0xac77fab973c455d77a670422374d9602039800f1f78c...</td>\n",
       "      <td>88803313862</td>\n",
       "      <td>False</td>\n",
       "      <td>0.111982</td>\n",
       "      <td>3.270000e+14</td>\n",
       "      <td>1970-01-01 00:29:10</td>\n",
       "      <td>1970-01-01</td>\n",
       "      <td>Fear</td>\n",
       "    </tr>\n",
       "  </tbody>\n",
       "</table>\n",
       "<p>211224 rows × 18 columns</p>\n",
       "</div>"
      ],
      "text/plain": [
       "                                           Account      Coin  Execution Price  \\\n",
       "0       0xae5eacaf9c6b9111fd53034a602c192a04e082ed      @107           7.9769   \n",
       "1       0xae5eacaf9c6b9111fd53034a602c192a04e082ed      @107           7.9800   \n",
       "2       0xae5eacaf9c6b9111fd53034a602c192a04e082ed      @107           7.9855   \n",
       "3       0xae5eacaf9c6b9111fd53034a602c192a04e082ed      @107           7.9874   \n",
       "4       0xae5eacaf9c6b9111fd53034a602c192a04e082ed      @107           7.9894   \n",
       "...                                            ...       ...              ...   \n",
       "211219  0x72743ae2822edd658c0c50608fd7c5c501b2afbd  FARTCOIN           1.1010   \n",
       "211220  0x72743ae2822edd658c0c50608fd7c5c501b2afbd  FARTCOIN           1.1010   \n",
       "211221  0x72743ae2822edd658c0c50608fd7c5c501b2afbd  FARTCOIN           1.1010   \n",
       "211222  0x72743ae2822edd658c0c50608fd7c5c501b2afbd  FARTCOIN           1.1010   \n",
       "211223  0x72743ae2822edd658c0c50608fd7c5c501b2afbd  FARTCOIN           1.1010   \n",
       "\n",
       "        Size Tokens  Size USD  Side     Timestamp IST  Start Position  \\\n",
       "0            986.87   7872.16   BUY  02-12-2024 22:50        0.000000   \n",
       "1             16.00    127.68   BUY  02-12-2024 22:50      986.524596   \n",
       "2            144.09   1150.63   BUY  02-12-2024 22:50     1002.518996   \n",
       "3            142.98   1142.04   BUY  02-12-2024 22:50     1146.558564   \n",
       "4              8.73     69.75   BUY  02-12-2024 22:50     1289.488521   \n",
       "...             ...       ...   ...               ...             ...   \n",
       "211219       382.20    420.80  SELL  25-04-2025 15:35     7546.600000   \n",
       "211220      2124.10   2338.63  SELL  25-04-2025 15:35     7164.400000   \n",
       "211221       423.40    466.16  SELL  25-04-2025 15:35     5040.300000   \n",
       "211222      3599.80   3963.38  SELL  25-04-2025 15:35     4616.900000   \n",
       "211223      1017.10   1119.83  SELL  25-04-2025 15:35     1017.100000   \n",
       "\n",
       "         Direction  Closed PnL  \\\n",
       "0              Buy      0.0000   \n",
       "1              Buy      0.0000   \n",
       "2              Buy      0.0000   \n",
       "3              Buy      0.0000   \n",
       "4              Buy      0.0000   \n",
       "...            ...         ...   \n",
       "211219  Close Long    -20.2566   \n",
       "211220  Close Long   -112.5773   \n",
       "211221  Close Long    -22.4402   \n",
       "211222  Close Long   -190.7894   \n",
       "211223  Close Long    -53.9063   \n",
       "\n",
       "                                         Transaction Hash     Order ID  \\\n",
       "0       0xec09451986a1874e3a980418412fcd0201f500c95bac...  52017706630   \n",
       "1       0xec09451986a1874e3a980418412fcd0201f500c95bac...  52017706630   \n",
       "2       0xec09451986a1874e3a980418412fcd0201f500c95bac...  52017706630   \n",
       "3       0xec09451986a1874e3a980418412fcd0201f500c95bac...  52017706630   \n",
       "4       0xec09451986a1874e3a980418412fcd0201f500c95bac...  52017706630   \n",
       "...                                                   ...          ...   \n",
       "211219  0xcd339c08dc7b615a993c0422374d8e02027400092bc2...  88803313862   \n",
       "211220  0x29e8ede2a3a37aa0eac00422374d8e02029b00ac9f3c...  88803313862   \n",
       "211221  0x0780085b0c0a943eea800422374d920204c100edf579...  88803313862   \n",
       "211222  0x349c29934913b25c89e20422374d920204cd008b8a0e...  88803313862   \n",
       "211223  0xac77fab973c455d77a670422374d9602039800f1f78c...  88803313862   \n",
       "\n",
       "        Crossed       Fee      Trade ID           Timestamp        date  \\\n",
       "0          True  0.345404  8.950000e+14 1970-01-01 00:28:50  1970-01-01   \n",
       "1          True  0.005600  4.430000e+14 1970-01-01 00:28:50  1970-01-01   \n",
       "2          True  0.050431  6.600000e+14 1970-01-01 00:28:50  1970-01-01   \n",
       "3          True  0.050043  1.080000e+15 1970-01-01 00:28:50  1970-01-01   \n",
       "4          True  0.003055  1.050000e+15 1970-01-01 00:28:50  1970-01-01   \n",
       "...         ...       ...           ...                 ...         ...   \n",
       "211219    False  0.042080  1.990000e+14 1970-01-01 00:29:10  1970-01-01   \n",
       "211220    False  0.233863  9.260000e+14 1970-01-01 00:29:10  1970-01-01   \n",
       "211221    False  0.046616  6.930000e+14 1970-01-01 00:29:10  1970-01-01   \n",
       "211222    False  0.396337  4.180000e+14 1970-01-01 00:29:10  1970-01-01   \n",
       "211223    False  0.111982  3.270000e+14 1970-01-01 00:29:10  1970-01-01   \n",
       "\n",
       "       Simplified  \n",
       "0            Fear  \n",
       "1            Fear  \n",
       "2            Fear  \n",
       "3            Fear  \n",
       "4            Fear  \n",
       "...           ...  \n",
       "211219       Fear  \n",
       "211220       Fear  \n",
       "211221       Fear  \n",
       "211222       Fear  \n",
       "211223       Fear  \n",
       "\n",
       "[211224 rows x 18 columns]"
      ]
     },
     "execution_count": 37,
     "metadata": {},
     "output_type": "execute_result"
    }
   ],
   "source": [
    "merged_df"
   ]
  },
  {
   "cell_type": "code",
   "execution_count": 38,
   "id": "05013be6-7e74-441e-9629-5be0fd14f2e2",
   "metadata": {},
   "outputs": [
    {
     "data": {
      "text/plain": [
       "(211224, 18)"
      ]
     },
     "execution_count": 38,
     "metadata": {},
     "output_type": "execute_result"
    }
   ],
   "source": [
    "merged_df.shape"
   ]
  },
  {
   "cell_type": "code",
   "execution_count": 39,
   "id": "ada4236b-63b4-418d-b513-5ebe2fde5498",
   "metadata": {},
   "outputs": [
    {
     "data": {
      "text/plain": [
       "Index(['Account', 'Coin', 'Execution Price', 'Size Tokens', 'Size USD', 'Side',\n",
       "       'Timestamp IST', 'Start Position', 'Direction', 'Closed PnL',\n",
       "       'Transaction Hash', 'Order ID', 'Crossed', 'Fee', 'Trade ID',\n",
       "       'Timestamp', 'date', 'Simplified'],\n",
       "      dtype='object')"
      ]
     },
     "execution_count": 39,
     "metadata": {},
     "output_type": "execute_result"
    }
   ],
   "source": [
    "merged_df.columns"
   ]
  },
  {
   "cell_type": "code",
   "execution_count": 40,
   "id": "a6f24c7d-a54e-4075-adfc-1aa359a60fc5",
   "metadata": {},
   "outputs": [
    {
     "name": "stdout",
     "output_type": "stream",
     "text": [
      "Simplified\n",
      "Fear    211224\n",
      "Name: count, dtype: int64\n"
     ]
    }
   ],
   "source": [
    "print(merged_df['Simplified'].value_counts())\n"
   ]
  },
  {
   "cell_type": "code",
   "execution_count": 41,
   "id": "c2c82abc-4d32-4abc-9601-5bef75d92e04",
   "metadata": {},
   "outputs": [
    {
     "name": "stdout",
     "output_type": "stream",
     "text": [
      "0       0.000000\n",
      "1       0.000000\n",
      "2       0.000000\n",
      "3       0.000000\n",
      "4       0.000000\n",
      "         ...    \n",
      "95    101.447367\n",
      "96    120.841353\n",
      "97    120.928211\n",
      "98    101.193105\n",
      "99    100.930641\n",
      "Name: Closed PnL, Length: 100, dtype: float64\n"
     ]
    }
   ],
   "source": [
    "print(merged_df['Closed PnL'].head(100))\n"
   ]
  },
  {
   "cell_type": "code",
   "execution_count": 42,
   "id": "84aff40c-1d1d-4ddc-b694-e171ac6d29a0",
   "metadata": {},
   "outputs": [],
   "source": [
    "plot_df = merged_df.dropna(subset=['Simplified', 'Closed PnL'])"
   ]
  },
  {
   "cell_type": "code",
   "execution_count": 43,
   "id": "d3e4bca7-9cf7-4cba-a36f-2cc390fbaf76",
   "metadata": {},
   "outputs": [
    {
     "name": "stdout",
     "output_type": "stream",
     "text": [
      "Simplified\n",
      "Fear    211224\n",
      "Name: count, dtype: int64\n"
     ]
    }
   ],
   "source": [
    "print(plot_df['Simplified'].value_counts())"
   ]
  },
  {
   "cell_type": "markdown",
   "id": "bb724941-2743-4c4a-ab3a-2a25d0320c3a",
   "metadata": {},
   "source": [
    "# How profitable traders are on fear-dominated days"
   ]
  },
  {
   "cell_type": "code",
   "execution_count": 45,
   "id": "46863769-edfa-4ad2-b814-21c391ba09b6",
   "metadata": {},
   "outputs": [
    {
     "name": "stdout",
     "output_type": "stream",
     "text": [
      "Descriptive Stats on PnL (Fear Days Only):\n",
      "count    211224.000000\n",
      "mean         48.749001\n",
      "std         919.164828\n",
      "min     -117990.104100\n",
      "25%           0.000000\n",
      "50%           0.000000\n",
      "75%           5.792797\n",
      "max      135329.090100\n",
      "Name: Closed PnL, dtype: float64\n"
     ]
    }
   ],
   "source": [
    "# Basic profit stats during Fear\n",
    "print(\"Descriptive Stats on PnL (Fear Days Only):\")\n",
    "print(merged_df['Closed PnL'].describe())\n"
   ]
  },
  {
   "cell_type": "markdown",
   "id": "f1ff2416-28bb-420b-89f8-bbc6cbdc3b64",
   "metadata": {},
   "source": [
    "# interpretation"
   ]
  },
  {
   "cell_type": "code",
   "execution_count": 47,
   "id": "f385abc9-c0b1-4279-85c7-9ff80e3d69f9",
   "metadata": {},
   "outputs": [],
   "source": [
    "#🔹 Most traders did not gain much — over 50% of the trades had zero profit (median = 0).\n",
    "#🔹 The average profit is ₹48.75, which is quite small.\n",
    "#🔹 However, the high standard deviation (₹919) suggests the market was very risky and unstable — some traders had huge wins/losses.\n",
    "#🔹 This implies that trading under fear may result in high-risk, high-reward behavior — but for most, it’s low reward or no gain."
   ]
  },
  {
   "cell_type": "code",
   "execution_count": 48,
   "id": "92d463a4-1a30-476a-97bc-1ccb2bfdce3c",
   "metadata": {},
   "outputs": [
    {
     "name": "stdout",
     "output_type": "stream",
     "text": [
      "Average Profit per Coin (Fear Days):\n",
      "Coin\n",
      "@109       270.704207\n",
      "AVAX       239.095613\n",
      "ENA        219.524751\n",
      "@85        200.804091\n",
      "EIGEN      197.063189\n",
      "PEOPLE     180.323003\n",
      "DOGE       178.623676\n",
      "SOL        153.358519\n",
      "MOODENG    151.096714\n",
      "ZRO        148.327509\n",
      "Name: Closed PnL, dtype: float64\n"
     ]
    }
   ],
   "source": [
    "coin_pnl = (\n",
    "    merged_df.groupby('Coin')['Closed PnL']\n",
    "    .mean()\n",
    "    .sort_values(ascending=False)\n",
    ")\n",
    "\n",
    "print(\"Average Profit per Coin (Fear Days):\")\n",
    "print(coin_pnl.head(10))  # Top 10 coins\n"
   ]
  },
  {
   "cell_type": "code",
   "execution_count": 49,
   "id": "d352d90a-be6b-49bf-a6a7-76ffeefe21be",
   "metadata": {},
   "outputs": [
    {
     "data": {
      "image/png": "[encoded data removed]",
      "text/plain": [
       "<Figure size 1200x600 with 1 Axes>"
      ]
     },
     "metadata": {},
     "output_type": "display_data"
    }
   ],
   "source": [
    "import matplotlib.pyplot as plt\n",
    "import seaborn as sns\n",
    "\n",
    "plt.figure(figsize=(12, 6))\n",
    "sns.barplot(x=coin_pnl.head(10).index, y=coin_pnl.head(10).values)\n",
    "plt.title(\"Top 10 Coins by Avg Profit (Fear Days)\")\n",
    "plt.ylabel(\"Avg Closed PnL\")\n",
    "plt.xticks(rotation=45)\n",
    "plt.grid(True)\n",
    "plt.show()\n"
   ]
  },
  {
   "cell_type": "markdown",
   "id": "4ec5c8c9-a499-40a0-aed0-05d83abdd4ea",
   "metadata": {},
   "source": [
    "# Do most traders lose or gain in fear periods?"
   ]
  },
  {
   "cell_type": "code",
   "execution_count": 51,
   "id": "babb5ba3-d646-42ee-be2f-abc2cb6ee856",
   "metadata": {},
   "outputs": [
    {
     "name": "stdout",
     "output_type": "stream",
     "text": [
      "Trade Outcome Counts (Fear Days):\n",
      "Closed PnL\n",
      "No Change    106816\n",
      "Profit        86869\n",
      "Loss          17539\n",
      "Name: count, dtype: int64\n"
     ]
    },
    {
     "data": {
      "image/png": "[encoded data removed]",
      "text/plain": [
       "<Figure size 640x480 with 1 Axes>"
      ]
     },
     "metadata": {},
     "output_type": "display_data"
    }
   ],
   "source": [
    "profit_counts = merged_df['Closed PnL'].apply(\n",
    "    lambda x: 'Profit' if x > 0 else ('Loss' if x < 0 else 'No Change')\n",
    ").value_counts()\n",
    "\n",
    "print(\"Trade Outcome Counts (Fear Days):\")\n",
    "print(profit_counts)\n",
    "\n",
    "# Optional: Pie chart\n",
    "profit_counts.plot.pie(autopct='%1.1f%%', colors=['lightgreen', 'salmon', 'gray'], ylabel=\"\")\n",
    "plt.title(\"Profit vs Loss on Fear Days\")\n",
    "plt.show()\n"
   ]
  },
  {
   "cell_type": "markdown",
   "id": "c8828cf4-0846-4098-8716-285fd809a6aa",
   "metadata": {},
   "source": [
    "# interpretation"
   ]
  },
  {
   "cell_type": "code",
   "execution_count": 53,
   "id": "be6ae500-b119-4d1b-aecc-819a70a5d340",
   "metadata": {},
   "outputs": [],
   "source": [
    "# 1 About half of all trades (50.6%) made zero profit/loss, suggesting cautious or break-even strategies.\n",
    "\n",
    "# 2 Only 41.1% of trades were profitable, showing some success despite fear conditions.\n",
    "\n",
    "# 3 A small but notable 8.3% of trades resulted in losses, which is low — but aligns with the earlier insight of high-risk/high-reward variance.\n",
    "\n",
    "# 4 Overall, most traders either break even or make small profits, and very few incur large losses — possibly due to risk aversion under fear"
   ]
  },
  {
   "cell_type": "markdown",
   "id": "0d290dd2-4c2d-486d-8f29-a549b8570708",
   "metadata": {},
   "source": [
    "# Is there high variance (risk) in PnL during fear?"
   ]
  },
  {
   "cell_type": "code",
   "execution_count": 55,
   "id": "68ed7aa1-d1aa-46a0-8623-0b894b2c51b2",
   "metadata": {},
   "outputs": [
    {
     "name": "stdout",
     "output_type": "stream",
     "text": [
      "Standard Deviation of PnL on Fear Days: 919.16\n"
     ]
    }
   ],
   "source": [
    "pnl_std = merged_df['Closed PnL'].std()\n",
    "print(f\"Standard Deviation of PnL on Fear Days: {pnl_std:.2f}\")\n"
   ]
  },
  {
   "cell_type": "markdown",
   "id": "4ab8a9f8-5f9d-41d3-b27d-b220e16acfde",
   "metadata": {},
   "source": [
    "# INTERPRETATION\n"
   ]
  },
  {
   "cell_type": "code",
   "execution_count": 57,
   "id": "6dc840a4-0e9e-4abc-b448-bc673e8aaf73",
   "metadata": {},
   "outputs": [],
   "source": [
    "# 1 A standard deviation of ₹919.16 is extremely high compared to the average profit (~₹48.75).\n",
    "\n",
    "# 2 This shows that PnL values are widely spread — some traders earn huge profits, while others face deep losses.\n",
    "\n",
    "# 3 It indicates a high-risk, high-reward trading environment during fear periods.\n",
    "\n",
    "# 4 While many traders make zero or small profits, the presence of extreme outliers (both positive and negative) pushes the risk factor up significantly."
   ]
  },
  {
   "cell_type": "markdown",
   "id": "ced36289-4aa4-42dd-be16-6e5bf160859d",
   "metadata": {},
   "source": [
    "# Coin-wise Risk Analysis (Standard Deviation)"
   ]
  },
  {
   "cell_type": "code",
   "execution_count": 59,
   "id": "392095f3-1ec3-4e0b-9a1c-57c1d4ded617",
   "metadata": {},
   "outputs": [
    {
     "name": "stdout",
     "output_type": "stream",
     "text": [
      "Top 10 Riskiest Coins (Highest Std Dev in PnL):\n",
      "Coin\n",
      "ETH      2741.757445\n",
      "TRUMP    2515.521453\n",
      "DOGE     1996.835450\n",
      "SOL      1423.428068\n",
      "EIGEN    1257.437810\n",
      "ENA      1213.758756\n",
      "AVAX     1037.203470\n",
      "@107     1016.159964\n",
      "ZRO       876.477795\n",
      "BERA      876.365713\n",
      "Name: Closed PnL, dtype: float64\n"
     ]
    },
    {
     "data": {
      "image/png": "[encoded data removed]",
      "text/plain": [
       "<Figure size 1200x600 with 1 Axes>"
      ]
     },
     "metadata": {},
     "output_type": "display_data"
    }
   ],
   "source": [
    "coin_risk = merged_df.groupby('Coin')['Closed PnL'].std().sort_values(ascending=False)\n",
    "\n",
    "print(\"Top 10 Riskiest Coins (Highest Std Dev in PnL):\")\n",
    "print(coin_risk.head(10))\n",
    "\n",
    "# Visualize\n",
    "plt.figure(figsize=(12, 6))\n",
    "sns.barplot(x=coin_risk.head(10).index, y=coin_risk.head(10).values, palette='magma')\n",
    "plt.title(\"Top 10 Riskiest Coins by PnL Std Dev\")\n",
    "plt.ylabel(\"Standard Deviation of Closed PnL\")\n",
    "plt.xlabel(\"Coin\")\n",
    "plt.xticks(rotation=45)\n",
    "plt.grid(True)\n",
    "plt.show()\n"
   ]
  },
  {
   "cell_type": "markdown",
   "id": "7932935b-770e-4950-8ff5-5388bb40ed1e",
   "metadata": {},
   "source": [
    "# Summary Table of Top Performing Coins"
   ]
  },
  {
   "cell_type": "code",
   "execution_count": 61,
   "id": "058387f1-9bdf-4bbf-be6d-25f2ea16fabd",
   "metadata": {},
   "outputs": [
    {
     "data": {
      "text/html": [
       "<div>\n",
       "<style scoped>\n",
       "    .dataframe tbody tr th:only-of-type {\n",
       "        vertical-align: middle;\n",
       "    }\n",
       "\n",
       "    .dataframe tbody tr th {\n",
       "        vertical-align: top;\n",
       "    }\n",
       "\n",
       "    .dataframe thead th {\n",
       "        text-align: right;\n",
       "    }\n",
       "</style>\n",
       "<table border=\"1\" class=\"dataframe\">\n",
       "  <thead>\n",
       "    <tr style=\"text-align: right;\">\n",
       "      <th></th>\n",
       "      <th>mean</th>\n",
       "      <th>std</th>\n",
       "      <th>count</th>\n",
       "    </tr>\n",
       "    <tr>\n",
       "      <th>Coin</th>\n",
       "      <th></th>\n",
       "      <th></th>\n",
       "      <th></th>\n",
       "    </tr>\n",
       "  </thead>\n",
       "  <tbody>\n",
       "    <tr>\n",
       "      <th>@109</th>\n",
       "      <td>270.704207</td>\n",
       "      <td>262.301751</td>\n",
       "      <td>20</td>\n",
       "    </tr>\n",
       "    <tr>\n",
       "      <th>AVAX</th>\n",
       "      <td>239.095613</td>\n",
       "      <td>1037.203470</td>\n",
       "      <td>202</td>\n",
       "    </tr>\n",
       "    <tr>\n",
       "      <th>ENA</th>\n",
       "      <td>219.524751</td>\n",
       "      <td>1213.758756</td>\n",
       "      <td>990</td>\n",
       "    </tr>\n",
       "    <tr>\n",
       "      <th>@85</th>\n",
       "      <td>200.804091</td>\n",
       "      <td>349.468850</td>\n",
       "      <td>132</td>\n",
       "    </tr>\n",
       "    <tr>\n",
       "      <th>EIGEN</th>\n",
       "      <td>197.063189</td>\n",
       "      <td>1257.437810</td>\n",
       "      <td>330</td>\n",
       "    </tr>\n",
       "    <tr>\n",
       "      <th>PEOPLE</th>\n",
       "      <td>180.323003</td>\n",
       "      <td>255.015236</td>\n",
       "      <td>2</td>\n",
       "    </tr>\n",
       "    <tr>\n",
       "      <th>DOGE</th>\n",
       "      <td>178.623676</td>\n",
       "      <td>1996.835450</td>\n",
       "      <td>826</td>\n",
       "    </tr>\n",
       "    <tr>\n",
       "      <th>SOL</th>\n",
       "      <td>153.358519</td>\n",
       "      <td>1423.428068</td>\n",
       "      <td>10691</td>\n",
       "    </tr>\n",
       "    <tr>\n",
       "      <th>MOODENG</th>\n",
       "      <td>151.096714</td>\n",
       "      <td>592.956727</td>\n",
       "      <td>107</td>\n",
       "    </tr>\n",
       "    <tr>\n",
       "      <th>ZRO</th>\n",
       "      <td>148.327509</td>\n",
       "      <td>876.477795</td>\n",
       "      <td>1239</td>\n",
       "    </tr>\n",
       "  </tbody>\n",
       "</table>\n",
       "</div>"
      ],
      "text/plain": [
       "               mean          std  count\n",
       "Coin                                   \n",
       "@109     270.704207   262.301751     20\n",
       "AVAX     239.095613  1037.203470    202\n",
       "ENA      219.524751  1213.758756    990\n",
       "@85      200.804091   349.468850    132\n",
       "EIGEN    197.063189  1257.437810    330\n",
       "PEOPLE   180.323003   255.015236      2\n",
       "DOGE     178.623676  1996.835450    826\n",
       "SOL      153.358519  1423.428068  10691\n",
       "MOODENG  151.096714   592.956727    107\n",
       "ZRO      148.327509   876.477795   1239"
      ]
     },
     "execution_count": 61,
     "metadata": {},
     "output_type": "execute_result"
    }
   ],
   "source": [
    "coin_pnl_summary = merged_df.groupby('Coin')['Closed PnL'].agg(['mean', 'std', 'count']).sort_values(by='mean', ascending=False)\n",
    "\n",
    "# Display top 10\n",
    "coin_pnl_summary.head(10)\n"
   ]
  },
  {
   "cell_type": "code",
   "execution_count": 62,
   "id": "e3ea0a4f-3be9-46db-93b7-9844effbbb20",
   "metadata": {},
   "outputs": [
    {
     "data": {
      "text/html": [
       "<style type=\"text/css\">\n",
       "#T_5c005_row0_col0, #T_5c005_row6_col1, #T_5c005_row7_col2 {\n",
       "  background-color: #00441b;\n",
       "  color: #f1f1f1;\n",
       "}\n",
       "#T_5c005_row0_col1, #T_5c005_row8_col2 {\n",
       "  background-color: #f6fcf4;\n",
       "  color: #000000;\n",
       "}\n",
       "#T_5c005_row0_col2, #T_5c005_row5_col1, #T_5c005_row5_col2, #T_5c005_row9_col0 {\n",
       "  background-color: #f7fcf5;\n",
       "  color: #000000;\n",
       "}\n",
       "#T_5c005_row1_col0 {\n",
       "  background-color: #258d47;\n",
       "  color: #f1f1f1;\n",
       "}\n",
       "#T_5c005_row1_col1 {\n",
       "  background-color: #87cd86;\n",
       "  color: #000000;\n",
       "}\n",
       "#T_5c005_row1_col2 {\n",
       "  background-color: #f5fbf2;\n",
       "  color: #000000;\n",
       "}\n",
       "#T_5c005_row2_col0 {\n",
       "  background-color: #53b466;\n",
       "  color: #f1f1f1;\n",
       "}\n",
       "#T_5c005_row2_col1 {\n",
       "  background-color: #60ba6c;\n",
       "  color: #f1f1f1;\n",
       "}\n",
       "#T_5c005_row2_col2 {\n",
       "  background-color: #eaf7e6;\n",
       "  color: #000000;\n",
       "}\n",
       "#T_5c005_row3_col0 {\n",
       "  background-color: #8ed08b;\n",
       "  color: #000000;\n",
       "}\n",
       "#T_5c005_row3_col1 {\n",
       "  background-color: #f0f9ec;\n",
       "  color: #000000;\n",
       "}\n",
       "#T_5c005_row3_col2 {\n",
       "  background-color: #f5fbf3;\n",
       "  color: #000000;\n",
       "}\n",
       "#T_5c005_row4_col0 {\n",
       "  background-color: #99d595;\n",
       "  color: #000000;\n",
       "}\n",
       "#T_5c005_row4_col1 {\n",
       "  background-color: #55b567;\n",
       "  color: #f1f1f1;\n",
       "}\n",
       "#T_5c005_row4_col2 {\n",
       "  background-color: #f3faf0;\n",
       "  color: #000000;\n",
       "}\n",
       "#T_5c005_row5_col0 {\n",
       "  background-color: #c4e8bd;\n",
       "  color: #000000;\n",
       "}\n",
       "#T_5c005_row6_col0 {\n",
       "  background-color: #c8e9c1;\n",
       "  color: #000000;\n",
       "}\n",
       "#T_5c005_row6_col2 {\n",
       "  background-color: #ecf8e8;\n",
       "  color: #000000;\n",
       "}\n",
       "#T_5c005_row7_col0 {\n",
       "  background-color: #f1faee;\n",
       "  color: #000000;\n",
       "}\n",
       "#T_5c005_row7_col1 {\n",
       "  background-color: #369f54;\n",
       "  color: #f1f1f1;\n",
       "}\n",
       "#T_5c005_row8_col0 {\n",
       "  background-color: #f4fbf2;\n",
       "  color: #000000;\n",
       "}\n",
       "#T_5c005_row8_col1 {\n",
       "  background-color: #d5efcf;\n",
       "  color: #000000;\n",
       "}\n",
       "#T_5c005_row9_col1 {\n",
       "  background-color: #a7dba0;\n",
       "  color: #000000;\n",
       "}\n",
       "#T_5c005_row9_col2 {\n",
       "  background-color: #e7f6e2;\n",
       "  color: #000000;\n",
       "}\n",
       "</style>\n",
       "<table id=\"T_5c005\">\n",
       "  <thead>\n",
       "    <tr>\n",
       "      <th class=\"blank level0\" >&nbsp;</th>\n",
       "      <th id=\"T_5c005_level0_col0\" class=\"col_heading level0 col0\" >mean</th>\n",
       "      <th id=\"T_5c005_level0_col1\" class=\"col_heading level0 col1\" >std</th>\n",
       "      <th id=\"T_5c005_level0_col2\" class=\"col_heading level0 col2\" >count</th>\n",
       "    </tr>\n",
       "    <tr>\n",
       "      <th class=\"index_name level0\" >Coin</th>\n",
       "      <th class=\"blank col0\" >&nbsp;</th>\n",
       "      <th class=\"blank col1\" >&nbsp;</th>\n",
       "      <th class=\"blank col2\" >&nbsp;</th>\n",
       "    </tr>\n",
       "  </thead>\n",
       "  <tbody>\n",
       "    <tr>\n",
       "      <th id=\"T_5c005_level0_row0\" class=\"row_heading level0 row0\" >@109</th>\n",
       "      <td id=\"T_5c005_row0_col0\" class=\"data row0 col0\" >270.704207</td>\n",
       "      <td id=\"T_5c005_row0_col1\" class=\"data row0 col1\" >262.301751</td>\n",
       "      <td id=\"T_5c005_row0_col2\" class=\"data row0 col2\" >20</td>\n",
       "    </tr>\n",
       "    <tr>\n",
       "      <th id=\"T_5c005_level0_row1\" class=\"row_heading level0 row1\" >AVAX</th>\n",
       "      <td id=\"T_5c005_row1_col0\" class=\"data row1 col0\" >239.095613</td>\n",
       "      <td id=\"T_5c005_row1_col1\" class=\"data row1 col1\" >1037.203470</td>\n",
       "      <td id=\"T_5c005_row1_col2\" class=\"data row1 col2\" >202</td>\n",
       "    </tr>\n",
       "    <tr>\n",
       "      <th id=\"T_5c005_level0_row2\" class=\"row_heading level0 row2\" >ENA</th>\n",
       "      <td id=\"T_5c005_row2_col0\" class=\"data row2 col0\" >219.524751</td>\n",
       "      <td id=\"T_5c005_row2_col1\" class=\"data row2 col1\" >1213.758756</td>\n",
       "      <td id=\"T_5c005_row2_col2\" class=\"data row2 col2\" >990</td>\n",
       "    </tr>\n",
       "    <tr>\n",
       "      <th id=\"T_5c005_level0_row3\" class=\"row_heading level0 row3\" >@85</th>\n",
       "      <td id=\"T_5c005_row3_col0\" class=\"data row3 col0\" >200.804091</td>\n",
       "      <td id=\"T_5c005_row3_col1\" class=\"data row3 col1\" >349.468850</td>\n",
       "      <td id=\"T_5c005_row3_col2\" class=\"data row3 col2\" >132</td>\n",
       "    </tr>\n",
       "    <tr>\n",
       "      <th id=\"T_5c005_level0_row4\" class=\"row_heading level0 row4\" >EIGEN</th>\n",
       "      <td id=\"T_5c005_row4_col0\" class=\"data row4 col0\" >197.063189</td>\n",
       "      <td id=\"T_5c005_row4_col1\" class=\"data row4 col1\" >1257.437810</td>\n",
       "      <td id=\"T_5c005_row4_col2\" class=\"data row4 col2\" >330</td>\n",
       "    </tr>\n",
       "    <tr>\n",
       "      <th id=\"T_5c005_level0_row5\" class=\"row_heading level0 row5\" >PEOPLE</th>\n",
       "      <td id=\"T_5c005_row5_col0\" class=\"data row5 col0\" >180.323003</td>\n",
       "      <td id=\"T_5c005_row5_col1\" class=\"data row5 col1\" >255.015236</td>\n",
       "      <td id=\"T_5c005_row5_col2\" class=\"data row5 col2\" >2</td>\n",
       "    </tr>\n",
       "    <tr>\n",
       "      <th id=\"T_5c005_level0_row6\" class=\"row_heading level0 row6\" >DOGE</th>\n",
       "      <td id=\"T_5c005_row6_col0\" class=\"data row6 col0\" >178.623676</td>\n",
       "      <td id=\"T_5c005_row6_col1\" class=\"data row6 col1\" >1996.835450</td>\n",
       "      <td id=\"T_5c005_row6_col2\" class=\"data row6 col2\" >826</td>\n",
       "    </tr>\n",
       "    <tr>\n",
       "      <th id=\"T_5c005_level0_row7\" class=\"row_heading level0 row7\" >SOL</th>\n",
       "      <td id=\"T_5c005_row7_col0\" class=\"data row7 col0\" >153.358519</td>\n",
       "      <td id=\"T_5c005_row7_col1\" class=\"data row7 col1\" >1423.428068</td>\n",
       "      <td id=\"T_5c005_row7_col2\" class=\"data row7 col2\" >10691</td>\n",
       "    </tr>\n",
       "    <tr>\n",
       "      <th id=\"T_5c005_level0_row8\" class=\"row_heading level0 row8\" >MOODENG</th>\n",
       "      <td id=\"T_5c005_row8_col0\" class=\"data row8 col0\" >151.096714</td>\n",
       "      <td id=\"T_5c005_row8_col1\" class=\"data row8 col1\" >592.956727</td>\n",
       "      <td id=\"T_5c005_row8_col2\" class=\"data row8 col2\" >107</td>\n",
       "    </tr>\n",
       "    <tr>\n",
       "      <th id=\"T_5c005_level0_row9\" class=\"row_heading level0 row9\" >ZRO</th>\n",
       "      <td id=\"T_5c005_row9_col0\" class=\"data row9 col0\" >148.327509</td>\n",
       "      <td id=\"T_5c005_row9_col1\" class=\"data row9 col1\" >876.477795</td>\n",
       "      <td id=\"T_5c005_row9_col2\" class=\"data row9 col2\" >1239</td>\n",
       "    </tr>\n",
       "  </tbody>\n",
       "</table>\n"
      ],
      "text/plain": [
       "<pandas.io.formats.style.Styler at 0x2595313ed80>"
      ]
     },
     "execution_count": 62,
     "metadata": {},
     "output_type": "execute_result"
    }
   ],
   "source": [
    "coin_pnl_summary.head(10).style.background_gradient(cmap=\"Greens\")\n"
   ]
  },
  {
   "cell_type": "markdown",
   "id": "341cdeb2-3a16-496c-b41e-448718972b96",
   "metadata": {},
   "source": [
    "#  Final Summary & Insights"
   ]
  },
  {
   "cell_type": "code",
   "execution_count": 64,
   "id": "9d786036-ffa3-4a37-984b-dc625af79b91",
   "metadata": {},
   "outputs": [],
   "source": [
    "#This analysis focused on trader behavior during fear-dominated market conditions using data from Hyperliquid and the Bitcoin Fear & Greed Index. Key findings include:\n",
    "\n",
    "#- The average trader profit was ₹48.75, while most trades made zero profit.\n",
    "#- Certain coins like AVAX, DOGE, and ENA performed better even during fear.\n",
    "#- Over 50% of trades broke even, and only 8% incurred losses.\n",
    "#- Standard deviation of PnL was high (₹919), indicating risky, volatile trading.\n",
    "#- Risky coins with the highest variability in outcomes include MOODENG, EIGEN, and DOGE.\n",
    "#- Time-series trends revealed fluctuations in daily average profits, even in fear conditions.\n",
    "\n",
    "#These insights highlight that fear doesn't eliminate trading — it reshapes it. Traders either play safe or take high risks for big wins.\n",
    "\n"
   ]
  },
  {
   "cell_type": "code",
   "execution_count": null,
   "id": "ea1d1ab6-9299-4a63-add7-0320cf1201cb",
   "metadata": {},
   "outputs": [],
   "source": []
  },
  {
   "cell_type": "code",
   "execution_count": null,
   "id": "f9c42bd1-5b8b-4e20-b170-881844a6d83e",
   "metadata": {},
   "outputs": [],
   "source": []
  },
  {
   "cell_type": "code",
   "execution_count": null,
   "id": "92d52b4e-3069-4485-8bba-a5a51904f573",
   "metadata": {},
   "outputs": [],
   "source": []
  },
  {
   "cell_type": "code",
   "execution_count": null,
   "id": "66826080-9a6b-4988-b880-1cd64d737158",
   "metadata": {},
   "outputs": [],
   "source": []
  },
  {
   "cell_type": "code",
   "execution_count": null,
   "id": "fa62ca7b-3aa6-4376-b0ea-0ec6c50fa5d0",
   "metadata": {},
   "outputs": [],
   "source": []
  },
  {
   "cell_type": "code",
   "execution_count": null,
   "id": "d8f2230b-74e3-4d9d-8691-489f31725160",
   "metadata": {},
   "outputs": [],
   "source": []
  },
  {
   "cell_type": "code",
   "execution_count": null,
   "id": "0ad1a2d2-0494-4be3-a0e3-46956829fb7f",
   "metadata": {},
   "outputs": [],
   "source": []
  }
 ],
 "metadata": {
  "kernelspec": {
   "display_name": "Python 3 (ipykernel)",
   "language": "python",
   "name": "python3"
  },
  "language_info": {
   "codemirror_mode": {
    "name": "ipython",
    "version": 3
   },
   "file_extension": ".py",
   "mimetype": "text/x-python",
   "name": "python",
   "nbconvert_exporter": "python",
   "pygments_lexer": "ipython3",
   "version": "3.12.3"
  }
 },
 "nbformat": 4,
 "nbformat_minor": 5
}
